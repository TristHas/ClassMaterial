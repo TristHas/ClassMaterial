{
 "cells": [
  {
   "cell_type": "markdown",
   "id": "5f13ee04",
   "metadata": {},
   "source": [
    "# 外国書購読: Introduction to Python"
   ]
  },
  {
   "cell_type": "markdown",
   "id": "cca180e8",
   "metadata": {},
   "source": [
    "This notebook gives an introductory to Python for beginners without coding experience. \n",
    "\n",
    "It covers the basics of Python programming language: explaining the concepts of:\n",
    "- variables and data types\n",
    "- operators and control structures\n",
    "- functions and modules and packages. \n",
    "\n",
    "The notebook provides explanations and examples of each topic, along with corresponding code snippets to help beginners understand and practice Python programming."
   ]
  },
  {
   "cell_type": "markdown",
   "id": "ae5a4079-9feb-4523-9ae6-441e4c7b4c7b",
   "metadata": {},
   "source": [
    "## Section 1: What is a Python program?\n",
    "\n",
    "A Pythyon program is a sequence of instructions.\n",
    "\n",
    "In python, every line of a program contains an instruction.\n",
    "\n",
    "Most instructions assign values to variables."
   ]
  },
  {
   "cell_type": "code",
   "execution_count": 111,
   "id": "e1556186-dd74-4ffc-af45-51c38f0047b3",
   "metadata": {
    "tags": []
   },
   "outputs": [
    {
     "name": "stdout",
     "output_type": "stream",
     "text": [
      "12\n"
     ]
    }
   ],
   "source": [
    "x = 5      # This instruction assigns value 5 to variable x.\n",
    "y = 7      # This instruction assigns value 7 to variable y.\n",
    "z = x + y  # This insruction assings to variable z the sum of x and y values\n",
    "print(z)   # This instruction displays the value of variable z"
   ]
  },
  {
   "cell_type": "markdown",
   "id": "19c08a7c",
   "metadata": {
    "tags": []
   },
   "source": [
    "## Section 2: Variables and Data Types\n",
    "\n",
    "In programming, variables are used to store values for later use.\n",
    "\n",
    "Data types refer to the different kinds of data that can be stored in variables.\n",
    "\n",
    "There are 4 basic types: integer, floats, string and boolean\n",
    "\n",
    "And \"container\" types called collections: List, Dictionaries, Set and Tuples.\n",
    "\n",
    "Here, we will only learn about list and dictionaries"
   ]
  },
  {
   "cell_type": "markdown",
   "id": "1d0088f1-73f9-4ade-abb2-aea86f77683f",
   "metadata": {
    "jp-MarkdownHeadingCollapsed": true,
    "tags": []
   },
   "source": [
    "### 2.1 Basic types"
   ]
  },
  {
   "cell_type": "code",
   "execution_count": 66,
   "id": "d6d23b1d",
   "metadata": {
    "tags": []
   },
   "outputs": [],
   "source": [
    "# Numbers\n",
    "# Integers and floats are two types of numbers in Python."
   ]
  },
  {
   "cell_type": "code",
   "execution_count": 67,
   "id": "d416d50b",
   "metadata": {
    "tags": []
   },
   "outputs": [
    {
     "name": "stdout",
     "output_type": "stream",
     "text": [
      "15\n"
     ]
    }
   ],
   "source": [
    "# Integers\n",
    "x = 5\n",
    "y = 10\n",
    "z = x + y\n",
    "print(z)"
   ]
  },
  {
   "cell_type": "code",
   "execution_count": 68,
   "id": "3fbb4ac6",
   "metadata": {
    "tags": []
   },
   "outputs": [
    {
     "name": "stdout",
     "output_type": "stream",
     "text": [
      "9.0\n"
     ]
    }
   ],
   "source": [
    "# Floats\n",
    "a = 2.5\n",
    "b = 3.6\n",
    "c = a * b\n",
    "print(c)"
   ]
  },
  {
   "cell_type": "code",
   "execution_count": 69,
   "id": "e0959a43",
   "metadata": {
    "tags": []
   },
   "outputs": [
    {
     "name": "stdout",
     "output_type": "stream",
     "text": [
      "Hello, John!\n"
     ]
    }
   ],
   "source": [
    "# Strings\n",
    "# Strings are used to represent text or characters.\n",
    "name = \"John\"\n",
    "greeting = f\"Hello, {name}!\"\n",
    "print(greeting)"
   ]
  },
  {
   "cell_type": "code",
   "execution_count": 70,
   "id": "f78db205",
   "metadata": {
    "tags": []
   },
   "outputs": [
    {
     "name": "stdout",
     "output_type": "stream",
     "text": [
      "True\n",
      "False\n"
     ]
    }
   ],
   "source": [
    "# Booleans\n",
    "# Booleans represent the truth value of an expression.\n",
    "# They can only have two values: True or False.\n",
    "is_student = True\n",
    "is_teacher = False\n",
    "print(is_student)\n",
    "print(is_teacher)"
   ]
  },
  {
   "cell_type": "markdown",
   "id": "49465dde-40a7-412a-a92c-8835bf393b52",
   "metadata": {
    "jp-MarkdownHeadingCollapsed": true,
    "tags": []
   },
   "source": [
    "### 2.2 Collection types"
   ]
  },
  {
   "cell_type": "code",
   "execution_count": 37,
   "id": "b77d51b1",
   "metadata": {
    "tags": []
   },
   "outputs": [],
   "source": [
    "# Lists\n",
    "# A collection of values that are ordered and changeable.\n",
    "# Enclose a comma-separated sequence of values in square brackets."
   ]
  },
  {
   "cell_type": "code",
   "execution_count": 38,
   "id": "88638bed",
   "metadata": {
    "tags": []
   },
   "outputs": [
    {
     "name": "stdout",
     "output_type": "stream",
     "text": [
      "['apple', 'banana', 'cherry']\n"
     ]
    }
   ],
   "source": [
    "fruits = [\"apple\", \"banana\", \"cherry\"]\n",
    "print(fruits)"
   ]
  },
  {
   "cell_type": "code",
   "execution_count": 39,
   "id": "09567ecf",
   "metadata": {
    "tags": []
   },
   "outputs": [
    {
     "name": "stdout",
     "output_type": "stream",
     "text": [
      "banana\n"
     ]
    }
   ],
   "source": [
    "# Accessing items in a list\n",
    "print(fruits[1])"
   ]
  },
  {
   "cell_type": "code",
   "execution_count": 40,
   "id": "bdd45cf7",
   "metadata": {
    "tags": []
   },
   "outputs": [
    {
     "name": "stdout",
     "output_type": "stream",
     "text": [
      "['apple', 'orange', 'cherry']\n"
     ]
    }
   ],
   "source": [
    "# Changing an item in a list\n",
    "fruits[1] = \"orange\"\n",
    "print(fruits)"
   ]
  },
  {
   "cell_type": "code",
   "execution_count": 41,
   "id": "f131b6b8",
   "metadata": {
    "tags": []
   },
   "outputs": [
    {
     "name": "stdout",
     "output_type": "stream",
     "text": [
      "['apple', 'orange', 'cherry', 'banana']\n"
     ]
    }
   ],
   "source": [
    "# Adding an item to a list\n",
    "fruits.append(\"banana\")\n",
    "print(fruits)"
   ]
  },
  {
   "cell_type": "code",
   "execution_count": 42,
   "id": "53fa2a88",
   "metadata": {
    "tags": []
   },
   "outputs": [
    {
     "name": "stdout",
     "output_type": "stream",
     "text": [
      "['apple', 'cherry', 'banana']\n"
     ]
    }
   ],
   "source": [
    "# Removing an item from a list\n",
    "fruits.remove(\"orange\")\n",
    "print(fruits)"
   ]
  },
  {
   "cell_type": "code",
   "execution_count": 43,
   "id": "ca6abf09",
   "metadata": {
    "tags": []
   },
   "outputs": [],
   "source": [
    "# Dictionaries\n",
    "# A collection of key-value pairs that are unordered and changeable.\n",
    "# Enclose a comma-separated sequence of key-value pairs in curly braces."
   ]
  },
  {
   "cell_type": "code",
   "execution_count": 44,
   "id": "5ab2e728",
   "metadata": {
    "tags": []
   },
   "outputs": [
    {
     "name": "stdout",
     "output_type": "stream",
     "text": [
      "{'name': 'John', 'age': 30, 'country': 'USA'}\n"
     ]
    }
   ],
   "source": [
    "person = {\"name\": \"John\", \"age\": 30, \"country\": \"USA\"}\n",
    "print(person)"
   ]
  },
  {
   "cell_type": "code",
   "execution_count": 45,
   "id": "0c789aff",
   "metadata": {
    "tags": []
   },
   "outputs": [
    {
     "name": "stdout",
     "output_type": "stream",
     "text": [
      "John\n"
     ]
    }
   ],
   "source": [
    "# Accessing items in a dictionary\n",
    "print(person[\"name\"])"
   ]
  },
  {
   "cell_type": "code",
   "execution_count": 46,
   "id": "438a25ec",
   "metadata": {
    "tags": []
   },
   "outputs": [
    {
     "name": "stdout",
     "output_type": "stream",
     "text": [
      "{'name': 'John', 'age': 35, 'country': 'USA'}\n"
     ]
    }
   ],
   "source": [
    "# Changing a value in a dictionary\n",
    "person[\"age\"] = 35\n",
    "print(person)"
   ]
  },
  {
   "cell_type": "code",
   "execution_count": 47,
   "id": "0b62c17a",
   "metadata": {
    "tags": []
   },
   "outputs": [
    {
     "name": "stdout",
     "output_type": "stream",
     "text": [
      "{'name': 'John', 'age': 35, 'country': 'USA', 'city': 'New York'}\n"
     ]
    }
   ],
   "source": [
    "# Adding a new key-value pair to a dictionary\n",
    "person[\"city\"] = \"New York\"\n",
    "print(person)"
   ]
  },
  {
   "cell_type": "code",
   "execution_count": 48,
   "id": "a940b73c",
   "metadata": {
    "tags": []
   },
   "outputs": [
    {
     "name": "stdout",
     "output_type": "stream",
     "text": [
      "{'name': 'John', 'age': 35, 'city': 'New York'}\n"
     ]
    }
   ],
   "source": [
    "# Removing a key-value pair from a dictionary\n",
    "del person[\"country\"]\n",
    "print(person)"
   ]
  },
  {
   "cell_type": "markdown",
   "id": "1cc0db0a",
   "metadata": {},
   "source": [
    "## Section 3: Operators\n",
    "\n",
    "Operators in Python are used to perform operations on variables and values.\n",
    "\n",
    "There are three types of operators: arithmetic, comparison, and logical operators."
   ]
  },
  {
   "cell_type": "code",
   "execution_count": 71,
   "id": "5a2a72e5",
   "metadata": {
    "tags": []
   },
   "outputs": [
    {
     "name": "stdout",
     "output_type": "stream",
     "text": [
      "8\n"
     ]
    }
   ],
   "source": [
    "# Arithmetic Operators\n",
    "# These operators are used to perform mathematical operations.\n",
    "# Addition\n",
    "a = 5\n",
    "b = 3\n",
    "c = a + b\n",
    "print(c)"
   ]
  },
  {
   "cell_type": "code",
   "execution_count": 72,
   "id": "f2b09a49",
   "metadata": {
    "tags": []
   },
   "outputs": [
    {
     "name": "stdout",
     "output_type": "stream",
     "text": [
      "4\n"
     ]
    }
   ],
   "source": [
    "# Subtraction\n",
    "d = 8\n",
    "e = 4\n",
    "f = d - e\n",
    "print(f)"
   ]
  },
  {
   "cell_type": "code",
   "execution_count": 73,
   "id": "7c970d9e",
   "metadata": {
    "tags": []
   },
   "outputs": [
    {
     "name": "stdout",
     "output_type": "stream",
     "text": [
      "42\n"
     ]
    }
   ],
   "source": [
    "# Multiplication\n",
    "g = 6\n",
    "h = 7\n",
    "i = g * h\n",
    "print(i)"
   ]
  },
  {
   "cell_type": "code",
   "execution_count": 74,
   "id": "652c85cf",
   "metadata": {
    "tags": []
   },
   "outputs": [
    {
     "name": "stdout",
     "output_type": "stream",
     "text": [
      "5.0\n"
     ]
    }
   ],
   "source": [
    "# Division\n",
    "j = 10\n",
    "k = 2\n",
    "l = j / k\n",
    "print(l)"
   ]
  },
  {
   "cell_type": "code",
   "execution_count": 76,
   "id": "c6971283",
   "metadata": {
    "tags": []
   },
   "outputs": [
    {
     "name": "stdout",
     "output_type": "stream",
     "text": [
      "8\n"
     ]
    }
   ],
   "source": [
    "# Exponentiation\n",
    "p = 2\n",
    "q = 3\n",
    "r = p ** q\n",
    "print(r)"
   ]
  },
  {
   "cell_type": "code",
   "execution_count": 77,
   "id": "7d623789",
   "metadata": {
    "tags": []
   },
   "outputs": [
    {
     "name": "stdout",
     "output_type": "stream",
     "text": [
      "True\n"
     ]
    }
   ],
   "source": [
    "# Comparison Operators\n",
    "# These operators are used to compare values.\n",
    "# Equal to\n",
    "s = 5\n",
    "t = 5\n",
    "print(s == t)"
   ]
  },
  {
   "cell_type": "code",
   "execution_count": 79,
   "id": "c1d02e43",
   "metadata": {
    "tags": []
   },
   "outputs": [
    {
     "name": "stdout",
     "output_type": "stream",
     "text": [
      "True\n"
     ]
    }
   ],
   "source": [
    "# Strict Comparison \n",
    "w = 10\n",
    "x = 5\n",
    "print(w > x)\n",
    "print(w < x)"
   ]
  },
  {
   "cell_type": "code",
   "execution_count": 84,
   "id": "9a8536d8",
   "metadata": {
    "tags": []
   },
   "outputs": [
    {
     "name": "stdout",
     "output_type": "stream",
     "text": [
      "True\n"
     ]
    }
   ],
   "source": [
    "# Logical Operators\n",
    "# These operators are used to combine expressions and return a Boolean value.\n",
    "# AND\n",
    "e = 5\n",
    "f = 10\n",
    "g = 15\n",
    "print(e < f and f < g)"
   ]
  },
  {
   "cell_type": "code",
   "execution_count": 85,
   "id": "0d07c4d5",
   "metadata": {
    "tags": []
   },
   "outputs": [
    {
     "name": "stdout",
     "output_type": "stream",
     "text": [
      "True\n"
     ]
    }
   ],
   "source": [
    "# OR\n",
    "h = 20\n",
    "i = 25\n",
    "j = 30\n",
    "print(h < i or i > j)"
   ]
  },
  {
   "cell_type": "code",
   "execution_count": 86,
   "id": "cc8714bc",
   "metadata": {
    "tags": []
   },
   "outputs": [
    {
     "name": "stdout",
     "output_type": "stream",
     "text": [
      "True\n"
     ]
    }
   ],
   "source": [
    "# NOT\n",
    "k = 35\n",
    "l = 40\n",
    "print(not k == l)"
   ]
  },
  {
   "cell_type": "markdown",
   "id": "e2837d3a-cf32-452a-a69b-26305ad69815",
   "metadata": {},
   "source": [
    "### Exercise:\n",
    "\n",
    "- What is the value of 1654.2 / 6\n",
    "\n",
    "- Is 4.56 greater than 11.6992 / 2.56?"
   ]
  },
  {
   "cell_type": "code",
   "execution_count": null,
   "id": "04196030-f0a0-44f1-81cc-75da6a4d07da",
   "metadata": {},
   "outputs": [],
   "source": []
  },
  {
   "cell_type": "code",
   "execution_count": null,
   "id": "2c05a3ed-1842-46e8-ac73-50806e3a06f2",
   "metadata": {},
   "outputs": [],
   "source": []
  },
  {
   "cell_type": "markdown",
   "id": "ae25137e",
   "metadata": {},
   "source": [
    "## Section 4: Control Structures\n",
    "\n",
    "Control structures are used to control the flow of a program.\n",
    "\n",
    "The most common control structures in Python are if-else statements, for loops, and while loops."
   ]
  },
  {
   "cell_type": "markdown",
   "id": "a14c5a06-f7a2-4a32-a885-b80d24d1ef56",
   "metadata": {
    "tags": []
   },
   "source": [
    "### 4.1 If-Else Statements\n",
    "\n",
    "If-else statements are used to execute different code blocks based on different conditions.\n",
    "\n",
    "Syntax:"
   ]
  },
  {
   "cell_type": "code",
   "execution_count": 87,
   "id": "d6df50a0-b1a8-4f07-a6ad-c68af0a50cd3",
   "metadata": {
    "tags": []
   },
   "outputs": [],
   "source": [
    "# if condition:\n",
    "#     code block\n",
    "# else:\n",
    "#     code block"
   ]
  },
  {
   "cell_type": "code",
   "execution_count": 89,
   "id": "efb65a19",
   "metadata": {
    "tags": []
   },
   "outputs": [
    {
     "name": "stdout",
     "output_type": "stream",
     "text": [
      "You are major.\n"
     ]
    }
   ],
   "source": [
    "# Example:\n",
    "age = 20\n",
    "if age >= 20:\n",
    "    print(\"You are major.\")\n",
    "else:\n",
    "    print(\"You are minor.\")"
   ]
  },
  {
   "cell_type": "code",
   "execution_count": 90,
   "id": "fc9c17f6",
   "metadata": {
    "tags": []
   },
   "outputs": [],
   "source": [
    "# For Loops\n",
    "# For loops are used to iterate over a sequence (such as a list, tuple, or string).\n",
    "# Syntax:\n",
    "# for variable in sequence:\n",
    "#     code block"
   ]
  },
  {
   "cell_type": "code",
   "execution_count": 91,
   "id": "1d0c25f8",
   "metadata": {
    "tags": []
   },
   "outputs": [
    {
     "name": "stdout",
     "output_type": "stream",
     "text": [
      "apple\n",
      "banana\n",
      "cherry\n"
     ]
    }
   ],
   "source": [
    "# Example:\n",
    "fruits = [\"apple\", \"banana\", \"cherry\"]\n",
    "\n",
    "for fruit in fruits:\n",
    "    print(fruit)"
   ]
  },
  {
   "cell_type": "markdown",
   "id": "55a8872f-84bd-4590-ad26-315454167abd",
   "metadata": {},
   "source": [
    "### Exercise\n",
    "\n",
    "Using a for loop, compute the value of:\n",
    "\n",
    "$\\sum_{i=1, i=10} \\frac{1}{i}$ "
   ]
  },
  {
   "cell_type": "code",
   "execution_count": null,
   "id": "e3f02f2b-4382-446c-a81c-7a54133de5a7",
   "metadata": {},
   "outputs": [],
   "source": []
  },
  {
   "cell_type": "code",
   "execution_count": null,
   "id": "ea7a31ad-03de-4b94-82d1-79e7d15dfb57",
   "metadata": {},
   "outputs": [],
   "source": []
  },
  {
   "cell_type": "markdown",
   "id": "f0a708f3",
   "metadata": {},
   "source": [
    "## Functions\n",
    "\n",
    "Functions are sequences of instructions that are grouped under a name.\n",
    "\n",
    "Functions take variables as inputs and return variables as outputs."
   ]
  },
  {
   "cell_type": "code",
   "execution_count": 97,
   "id": "9a0a572a",
   "metadata": {
    "tags": []
   },
   "outputs": [],
   "source": [
    "def add_and_multiply(x):\n",
    "    z = x + 2\n",
    "    y = z * 7\n",
    "    return y"
   ]
  },
  {
   "cell_type": "markdown",
   "id": "8ad64a65-4128-4f4b-94c8-d3d80719f2fd",
   "metadata": {},
   "source": [
    "The function above has name \"greet\".\n",
    "\n",
    "It takes a variable \"x\" as input and returns the variable \"y\" as output.\n",
    "\n",
    "It computes the operation $y=(x+2) \\times 7$\n",
    "\n",
    "This function can be executed as follows:"
   ]
  },
  {
   "cell_type": "code",
   "execution_count": 98,
   "id": "f6fb3bad",
   "metadata": {
    "tags": []
   },
   "outputs": [
    {
     "name": "stdout",
     "output_type": "stream",
     "text": [
      "49\n"
     ]
    }
   ],
   "source": [
    "my_number = 5\n",
    "my_output = add_and_multiply(my_number)\n",
    "print(my_output)"
   ]
  },
  {
   "cell_type": "markdown",
   "id": "f7aaae06",
   "metadata": {
    "tags": []
   },
   "source": [
    "## Modules and Packages"
   ]
  },
  {
   "cell_type": "code",
   "execution_count": 99,
   "id": "0f5a58c7",
   "metadata": {
    "tags": []
   },
   "outputs": [],
   "source": [
    "# Section 6: Modules and Packages"
   ]
  },
  {
   "cell_type": "code",
   "execution_count": 100,
   "id": "bb3a2415",
   "metadata": {
    "tags": []
   },
   "outputs": [],
   "source": [
    "# Modules are files containing Python code that can be imported and used in other Python code.\n",
    "# Packages are directories containing Python modules and an __init__.py file that indicates that the directory is a Python package."
   ]
  },
  {
   "cell_type": "code",
   "execution_count": 101,
   "id": "29979d77",
   "metadata": {
    "tags": []
   },
   "outputs": [],
   "source": [
    "# Importing a module\n",
    "# To use a module in Python, you must first import it using the import keyword.\n",
    "# Syntax:\n",
    "# import module_name"
   ]
  },
  {
   "cell_type": "code",
   "execution_count": 102,
   "id": "014fa7dd",
   "metadata": {
    "tags": []
   },
   "outputs": [],
   "source": [
    "import math"
   ]
  },
  {
   "cell_type": "code",
   "execution_count": 103,
   "id": "0ec6b8f4",
   "metadata": {
    "tags": []
   },
   "outputs": [],
   "source": [
    "# Using a module\n",
    "# Once a module is imported, you can use its functions and variables in your code.\n",
    "# Syntax:\n",
    "# module_name.function_name()\n",
    "# module_name.variable_name"
   ]
  },
  {
   "cell_type": "code",
   "execution_count": 104,
   "id": "dc9a2762",
   "metadata": {
    "tags": []
   },
   "outputs": [
    {
     "name": "stdout",
     "output_type": "stream",
     "text": [
      "5.0\n"
     ]
    }
   ],
   "source": [
    "print(math.sqrt(25)) # Output: 5.0"
   ]
  },
  {
   "cell_type": "code",
   "execution_count": 105,
   "id": "76713b8e",
   "metadata": {
    "tags": []
   },
   "outputs": [],
   "source": [
    "# Importing specific functions and variables from a module\n",
    "# You can also import specific functions and variables from a module using the from keyword.\n",
    "# Syntax:\n",
    "# from module_name import function_name, variable_name"
   ]
  },
  {
   "cell_type": "code",
   "execution_count": 106,
   "id": "c840a0ee",
   "metadata": {
    "tags": []
   },
   "outputs": [],
   "source": [
    "from math import pi"
   ]
  },
  {
   "cell_type": "code",
   "execution_count": 107,
   "id": "1d711bbe",
   "metadata": {
    "tags": []
   },
   "outputs": [
    {
     "name": "stdout",
     "output_type": "stream",
     "text": [
      "3.141592653589793\n"
     ]
    }
   ],
   "source": [
    "print(pi) # Output: 3.141592653589793"
   ]
  },
  {
   "cell_type": "code",
   "execution_count": 108,
   "id": "bfd1478a",
   "metadata": {
    "tags": []
   },
   "outputs": [],
   "source": [
    "# Importing a module with an alias\n",
    "# You can import a module with an alias using the as keyword.\n",
    "# Syntax:\n",
    "# import module_name as alias"
   ]
  },
  {
   "cell_type": "code",
   "execution_count": 109,
   "id": "4deea788",
   "metadata": {
    "tags": []
   },
   "outputs": [],
   "source": [
    "import statistics as stats"
   ]
  },
  {
   "cell_type": "code",
   "execution_count": 110,
   "id": "ba521549",
   "metadata": {
    "tags": []
   },
   "outputs": [
    {
     "name": "stdout",
     "output_type": "stream",
     "text": [
      "3\n"
     ]
    }
   ],
   "source": [
    "print(stats.median([1, 2, 3, 4, 5])) # Output: 3"
   ]
  },
  {
   "cell_type": "code",
   "execution_count": null,
   "id": "7e970a09-e72d-403a-854a-7021c7fdf4d5",
   "metadata": {},
   "outputs": [],
   "source": []
  },
  {
   "cell_type": "code",
   "execution_count": null,
   "id": "cbefb82f-aef4-4056-86aa-f458bf297812",
   "metadata": {},
   "outputs": [],
   "source": []
  }
 ],
 "metadata": {
  "kernelspec": {
   "display_name": "Python 3 (ipykernel)",
   "language": "python",
   "name": "python3"
  },
  "language_info": {
   "codemirror_mode": {
    "name": "ipython",
    "version": 3
   },
   "file_extension": ".py",
   "mimetype": "text/x-python",
   "name": "python",
   "nbconvert_exporter": "python",
   "pygments_lexer": "ipython3",
   "version": "3.10.11"
  }
 },
 "nbformat": 4,
 "nbformat_minor": 5
}
