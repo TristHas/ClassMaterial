{
 "cells": [
  {
   "cell_type": "markdown",
   "id": "27b4cdb1-c207-4a21-a097-51aca0fdc4e8",
   "metadata": {},
   "source": [
    "### Representing data for Machine Learning in Python: Introduction to Numpy\n",
    "\n",
    "In the lecture, we saw that the \"language\" of Machine Learning is vectors: Machine Learning models use vectors to represent inputs and outputs\n",
    "\n",
    "To be more precise, the \"language\" of Machine Learning is arrays.\n",
    "\n",
    "An array is a grid of numbers that can have any number of dimensions.\n",
    "\n",
    "A 0-dimension array is just a single number:\n",
    "\n",
    "A = a\n",
    "\n",
    "A 1-dimensional array is a vector: \n",
    "\n",
    "A = $ [a_1, a_2, a_3] $\n",
    "\n",
    "A 2-dimensional array is a matrix, which can be though of as a stack of vectors:\n",
    "\n",
    "$ \n",
    "A =  \\begin{pmatrix}\n",
    "a_{1}^1 & a_{2}^1 & \\cdots & a_{n}^1 \\\\\n",
    "a_{1}^2 & a_{2}^2 & \\cdots & a_{n}^2 \\\\\n",
    "\\vdots  & \\vdots  & \\ddots & \\vdots  \\\\\n",
    "a_{1}^d & a_{2}^d & \\cdots & a_{n}^d \n",
    "\\end{pmatrix}\n",
    "$\n",
    "\n",
    "\n"
   ]
  },
  {
   "cell_type": "markdown",
   "id": "07b3a899-94c0-41bb-851f-c95eb408351e",
   "metadata": {},
   "source": [
    "A 3-dimensional array is a \"cube\" of data, which can be though of as a stack of matrices:\n",
    "\n",
    "![3D%20matrix.png](https://raw.githubusercontent.com/TristHas/ClassMaterial/main/3D%20matrix.png)"
   ]
  },
  {
   "cell_type": "markdown",
   "id": "a6cc13a6-2411-4f77-a125-9b1c73fd1741",
   "metadata": {},
   "source": [
    "In Machine Learning, we use these arrays to represent our input and output data.\n",
    "\n",
    "In Python, we use the module \"numpy\" to represent arrays.\n",
    "\n",
    "Let's see how these arrays work"
   ]
  },
  {
   "cell_type": "markdown",
   "id": "837fa017-6dc1-42bb-84af-d30f4ffbef26",
   "metadata": {
    "tags": []
   },
   "source": [
    "## Install and imports\n",
    "\n",
    "First, we need to import the module numpy."
   ]
  },
  {
   "cell_type": "code",
   "execution_count": 57,
   "id": "62d9d0bd-83e1-4c8b-bdfe-575c25c49ce9",
   "metadata": {},
   "outputs": [],
   "source": [
    "import numpy as np"
   ]
  },
  {
   "cell_type": "markdown",
   "id": "20f140b1-92fb-4cbd-bd5e-7a5816531488",
   "metadata": {
    "tags": []
   },
   "source": [
    "## Using array to represent data"
   ]
  },
  {
   "cell_type": "markdown",
   "id": "187565c6-9e86-4c1e-afc6-bf7cb84f6659",
   "metadata": {},
   "source": [
    "Imagine that I want to represent the evolution of bitcoin price:\n",
    "\n",
    "- Monday: 2\n",
    "- Tuesday: 7\n",
    "- Wednesday: 5\n",
    "- Thursday: 3\n",
    "- Friday: 8\n",
    "\n",
    "\n",
    "Using the standard data types, I could define a \"price\" variable that represent this information as a list:"
   ]
  },
  {
   "cell_type": "code",
   "execution_count": 58,
   "id": "5e400e27-fbc8-424d-8c13-f6bd41be387b",
   "metadata": {},
   "outputs": [
    {
     "name": "stdout",
     "output_type": "stream",
     "text": [
      "[2, 7, 5, 3, 8]\n"
     ]
    }
   ],
   "source": [
    "price = [2, 7, 5, 3, 8]\n",
    "print(price)"
   ]
  },
  {
   "cell_type": "markdown",
   "id": "1294988a-b831-473a-8d43-6c88de157c01",
   "metadata": {},
   "source": [
    "Here my variable price is a list containing the 4 daily bitcoin prices"
   ]
  },
  {
   "cell_type": "code",
   "execution_count": 59,
   "id": "78bf659b-475a-4c3c-8037-731b92db5d43",
   "metadata": {},
   "outputs": [
    {
     "data": {
      "text/plain": [
       "(list, 5)"
      ]
     },
     "execution_count": 59,
     "metadata": {},
     "output_type": "execute_result"
    }
   ],
   "source": [
    "# I can show the price and size of the list using the operations type and len\n",
    "type(price), len(price)"
   ]
  },
  {
   "cell_type": "markdown",
   "id": "ed51e0e5-cc13-477b-a030-5e0dbcd16a36",
   "metadata": {},
   "source": [
    "I can also represent this information using a numpy array:"
   ]
  },
  {
   "cell_type": "code",
   "execution_count": 60,
   "id": "646e4fe6-e821-4e7a-bae4-1ef200a18add",
   "metadata": {},
   "outputs": [
    {
     "data": {
      "text/plain": [
       "array([2, 7, 5, 3, 8])"
      ]
     },
     "execution_count": 60,
     "metadata": {},
     "output_type": "execute_result"
    }
   ],
   "source": [
    "price = np.array([2, 7, 5, 3, 8]) # Create a numpy array representing the bitcoin price vector\n",
    "price"
   ]
  },
  {
   "cell_type": "code",
   "execution_count": 61,
   "id": "ed513178-f917-4b00-8c35-5ef5cb69c431",
   "metadata": {},
   "outputs": [
    {
     "data": {
      "text/plain": [
       "(numpy.ndarray, (5,))"
      ]
     },
     "execution_count": 61,
     "metadata": {},
     "output_type": "execute_result"
    }
   ],
   "source": [
    "type(price), price.shape"
   ]
  },
  {
   "cell_type": "markdown",
   "id": "8f4042ba-ee98-4e9d-a455-c6d2716b0fff",
   "metadata": {},
   "source": [
    "Now, my variable price is a 1-dimensional array.\n",
    "\n",
    "In mathematical terms, both lists and 1-dimensional arrays represent vectors.\n",
    "\n",
    "Compared to list, array can represent higher dimension data.\n",
    "\n",
    "For example, consider the price of Bitcoin across the three firs weeks of August 2023.\n",
    "\n",
    "I want to represent this data as a matrix, with each row representing a different week and each column representing a different day of the week.\n",
    "\n",
    "I can do that using numpy as follows:"
   ]
  },
  {
   "cell_type": "code",
   "execution_count": 62,
   "id": "cfcb06b1-69be-41a1-8120-c5618e51d008",
   "metadata": {},
   "outputs": [
    {
     "name": "stdout",
     "output_type": "stream",
     "text": [
      "[[2 7 5 3 8]\n",
      " [9 5 8 2 3]\n",
      " [4 6 6 8 9]]\n"
     ]
    }
   ],
   "source": [
    "prices = np.array(\n",
    "    [ [2, 7, 5, 3, 8],\n",
    "      [9, 5, 8, 2, 3],\n",
    "      [4, 6, 6, 8, 9]\n",
    "    ])\n",
    "print(prices)"
   ]
  },
  {
   "cell_type": "code",
   "execution_count": 63,
   "id": "4fdc4d8c-73d9-4f2a-8222-f79d6c24426f",
   "metadata": {},
   "outputs": [
    {
     "data": {
      "text/plain": [
       "(numpy.ndarray, (3, 5))"
      ]
     },
     "execution_count": 63,
     "metadata": {},
     "output_type": "execute_result"
    }
   ],
   "source": [
    "type(prices), prices.shape"
   ]
  },
  {
   "cell_type": "markdown",
   "id": "b2502c11-d1d6-4ba4-b426-edb6a9c76d9c",
   "metadata": {},
   "source": [
    "My variable prices is now a 2-dimensional array: a matrix.\n",
    "\n",
    "This matrix has 3 rows and 5 columns, which can be seen looking at the variable's shape above.\n",
    "\n",
    "The number of dimensions represent the number of \"axis\" along which the data is defined: \n",
    "\n",
    "For matrices the two axis are columns and rows while vectors have only one axis.\n",
    "\n",
    "Arrays can have any dimension, for example a three dimensional array can be though of as a cube of data:\n",
    "\n"
   ]
  },
  {
   "cell_type": "code",
   "execution_count": 10,
   "id": "39846cc0-0710-4094-8875-c1c893504f1a",
   "metadata": {},
   "outputs": [
    {
     "name": "stdout",
     "output_type": "stream",
     "text": [
      "(3, 4, 5)\n"
     ]
    }
   ],
   "source": [
    "x = np.ones((3, 4, 5)) # Create a 3-dimensional array containing the value 1 with shape 3, 4, 5\n",
    "print(x.shape)"
   ]
  },
  {
   "cell_type": "markdown",
   "id": "ac7b3e03-c8be-457a-bf37-6d4749725cf7",
   "metadata": {},
   "source": [
    "The above array can be though of as 3 matrices of shape (4,5) stacked along a third dimension, as illustrated in the image below:"
   ]
  },
  {
   "cell_type": "code",
   "execution_count": 11,
   "id": "417ffdcf-2ed1-45be-b076-6a17fead88f1",
   "metadata": {},
   "outputs": [
    {
     "name": "stdout",
     "output_type": "stream",
     "text": [
      "[[[1. 1. 1. 1. 1.]\n",
      "  [1. 1. 1. 1. 1.]\n",
      "  [1. 1. 1. 1. 1.]\n",
      "  [1. 1. 1. 1. 1.]]\n",
      "\n",
      " [[1. 1. 1. 1. 1.]\n",
      "  [1. 1. 1. 1. 1.]\n",
      "  [1. 1. 1. 1. 1.]\n",
      "  [1. 1. 1. 1. 1.]]\n",
      "\n",
      " [[1. 1. 1. 1. 1.]\n",
      "  [1. 1. 1. 1. 1.]\n",
      "  [1. 1. 1. 1. 1.]\n",
      "  [1. 1. 1. 1. 1.]]]\n"
     ]
    }
   ],
   "source": [
    "print(x)"
   ]
  },
  {
   "cell_type": "markdown",
   "id": "74f75dfb-6d7b-4200-80c2-ccff08212b6b",
   "metadata": {
    "tags": []
   },
   "source": [
    "### Indexing"
   ]
  },
  {
   "cell_type": "markdown",
   "id": "d06327b0-a076-47ba-a0b5-8ea30a974185",
   "metadata": {},
   "source": [
    "I can access the values of an array by an operation called indexing.\n",
    "\n",
    "For example, let's access the first value of the price variable.\n",
    "\n",
    "In python the first element is defined as the index 0, so I can access the Monday Bitcoin price by indexing as follows:"
   ]
  },
  {
   "cell_type": "code",
   "execution_count": 12,
   "id": "3f53d665-adca-4d13-bcac-ca994d4028a7",
   "metadata": {},
   "outputs": [
    {
     "data": {
      "text/plain": [
       "2"
      ]
     },
     "execution_count": 12,
     "metadata": {},
     "output_type": "execute_result"
    }
   ],
   "source": [
    "price[0] # Get the first element of the array"
   ]
  },
  {
   "cell_type": "markdown",
   "id": "e3337b3e-2725-4145-8fb5-5582a331c3e1",
   "metadata": {},
   "source": [
    "Similarly, I can index a matrix by selecting its first row as follows:"
   ]
  },
  {
   "cell_type": "code",
   "execution_count": 14,
   "id": "53e15217-2756-454c-bef7-f35c862a9825",
   "metadata": {},
   "outputs": [
    {
     "name": "stdout",
     "output_type": "stream",
     "text": [
      "[[2 7 5 3 8]\n",
      " [9 5 8 2 3]\n",
      " [4 6 6 8 9]]\n"
     ]
    }
   ],
   "source": [
    "print(prices)"
   ]
  },
  {
   "cell_type": "code",
   "execution_count": 15,
   "id": "cc89e0c1-2e66-4cb2-88de-7d3718575c47",
   "metadata": {},
   "outputs": [
    {
     "name": "stdout",
     "output_type": "stream",
     "text": [
      "[2 7 5 3 8]\n"
     ]
    }
   ],
   "source": [
    "print(prices[0])"
   ]
  },
  {
   "cell_type": "markdown",
   "id": "97de1d63-9715-45ef-a8fc-4d39f721b0d6",
   "metadata": {},
   "source": [
    "Here I selected the first row of the matrix. A matrix row is a vector, or a 1-dimensional array:"
   ]
  },
  {
   "cell_type": "code",
   "execution_count": 16,
   "id": "c0017333-3a4f-4ba5-bd6e-c9f4b6b71604",
   "metadata": {},
   "outputs": [
    {
     "name": "stdout",
     "output_type": "stream",
     "text": [
      "(3, 5)\n",
      "(5,)\n"
     ]
    }
   ],
   "source": [
    "print(prices.shape)\n",
    "print(prices[0].shape)"
   ]
  },
  {
   "cell_type": "markdown",
   "id": "afa1960a-64cb-441e-9657-1e9b661ce595",
   "metadata": {},
   "source": [
    "I can select the first element of the first row of the matrix as follows:"
   ]
  },
  {
   "cell_type": "code",
   "execution_count": 17,
   "id": "4b07e143-124f-44ee-99a9-dae81a566e10",
   "metadata": {},
   "outputs": [
    {
     "data": {
      "text/plain": [
       "2"
      ]
     },
     "execution_count": 17,
     "metadata": {},
     "output_type": "execute_result"
    }
   ],
   "source": [
    "prices[0,0]"
   ]
  },
  {
   "cell_type": "markdown",
   "id": "4ef83c7c-9378-423d-be38-77748bc9762d",
   "metadata": {},
   "source": [
    "Which gives me the price of bitcoin on the first week's Monday "
   ]
  },
  {
   "cell_type": "markdown",
   "id": "35d37ec5-b37d-45d1-8af7-ae1f99946ed1",
   "metadata": {},
   "source": [
    "### Exercise:\n",
    "\n",
    "Index the variable prices so as to return the price of Bitcoin on Wednesday of the second week "
   ]
  },
  {
   "cell_type": "code",
   "execution_count": null,
   "id": "6c731ea6-a2de-43e1-bfb5-8d9823815414",
   "metadata": {},
   "outputs": [],
   "source": []
  },
  {
   "cell_type": "markdown",
   "id": "34bc6700-2326-447c-a864-07d5371e73d2",
   "metadata": {
    "tags": []
   },
   "source": [
    "## Operations on arrays\n",
    "\n",
    "Arrays are very convenient to perform operations on data.\n",
    "\n",
    "For example, I can add up two vectors as follows:"
   ]
  },
  {
   "cell_type": "code",
   "execution_count": 35,
   "id": "53970de8-1e72-4065-9623-39d4df12eba0",
   "metadata": {},
   "outputs": [],
   "source": [
    "x = np.ones(6) # Create a vector of six elements with value 1\n",
    "y = np.ones(6) # Create a vector of six elements with value 1"
   ]
  },
  {
   "cell_type": "code",
   "execution_count": 23,
   "id": "a2e916f8-54ea-4165-819a-635697be0ff6",
   "metadata": {},
   "outputs": [
    {
     "name": "stdout",
     "output_type": "stream",
     "text": [
      "[1. 1. 1. 1. 1. 1.]\n"
     ]
    }
   ],
   "source": [
    "print(x)"
   ]
  },
  {
   "cell_type": "code",
   "execution_count": 24,
   "id": "b9715ea8-c067-45cc-a4c9-c631427d3325",
   "metadata": {},
   "outputs": [
    {
     "name": "stdout",
     "output_type": "stream",
     "text": [
      "[1. 1. 1. 1. 1. 1.]\n"
     ]
    }
   ],
   "source": [
    "print(y)"
   ]
  },
  {
   "cell_type": "code",
   "execution_count": 25,
   "id": "9995d6e7-2c8a-4520-9be5-15956c8ab444",
   "metadata": {},
   "outputs": [
    {
     "name": "stdout",
     "output_type": "stream",
     "text": [
      "[2. 2. 2. 2. 2. 2.]\n"
     ]
    }
   ],
   "source": [
    "z = x + y # Add the two vectors\n",
    "print(z)"
   ]
  },
  {
   "cell_type": "markdown",
   "id": "c89d6ec7-833c-40f7-a82f-338556150fd2",
   "metadata": {},
   "source": [
    "But be careful, some operations can not be performed.\n",
    "\n",
    "For example, I can not add a vector of dimension 3 to a vector of dimension 2.\n",
    "\n",
    "Only vectors of the same dimension can be added"
   ]
  },
  {
   "cell_type": "code",
   "execution_count": 26,
   "id": "6ecc3be0-797f-4ed0-849e-7fb9b0dc43ff",
   "metadata": {},
   "outputs": [],
   "source": [
    "x = np.ones(3)\n",
    "y = np.ones(2)"
   ]
  },
  {
   "cell_type": "code",
   "execution_count": 27,
   "id": "129d5a57-fe0f-4b8c-8fb0-aabd204afe30",
   "metadata": {},
   "outputs": [
    {
     "name": "stdout",
     "output_type": "stream",
     "text": [
      "[1. 1. 1.]\n"
     ]
    }
   ],
   "source": [
    "print(x)"
   ]
  },
  {
   "cell_type": "code",
   "execution_count": 28,
   "id": "7a31b5a0-b0e0-490e-8410-902c20f67cc9",
   "metadata": {},
   "outputs": [
    {
     "name": "stdout",
     "output_type": "stream",
     "text": [
      "[1. 1.]\n"
     ]
    }
   ],
   "source": [
    "print(y)"
   ]
  },
  {
   "cell_type": "code",
   "execution_count": 29,
   "id": "a1c6528e-08f9-4b88-b74e-96012fcbb70a",
   "metadata": {
    "tags": []
   },
   "outputs": [
    {
     "ename": "ValueError",
     "evalue": "operands could not be broadcast together with shapes (3,) (2,) ",
     "output_type": "error",
     "traceback": [
      "\u001b[0;31m---------------------------------------------------------------------------\u001b[0m",
      "\u001b[0;31mValueError\u001b[0m                                Traceback (most recent call last)",
      "Input \u001b[0;32mIn [29]\u001b[0m, in \u001b[0;36m<cell line: 1>\u001b[0;34m()\u001b[0m\n\u001b[0;32m----> 1\u001b[0m z \u001b[38;5;241m=\u001b[39m \u001b[43mx\u001b[49m\u001b[43m \u001b[49m\u001b[38;5;241;43m+\u001b[39;49m\u001b[43m \u001b[49m\u001b[43my\u001b[49m\n",
      "\u001b[0;31mValueError\u001b[0m: operands could not be broadcast together with shapes (3,) (2,) "
     ]
    }
   ],
   "source": [
    "z = x + y"
   ]
  },
  {
   "cell_type": "markdown",
   "id": "13f2f098-7d28-4c9b-b867-ad4fa2a89c69",
   "metadata": {},
   "source": [
    "Above, I got an error because adding vectors of different dimensions (=different array shapes) is not possible"
   ]
  },
  {
   "cell_type": "markdown",
   "id": "b81e42aa-7724-4f56-9bfe-11d63788a84c",
   "metadata": {},
   "source": [
    "Any kind of operation on vector and matrices can be written in numpy.\n",
    "\n",
    "For example, here is how to perform a vector-matrix multiplication:"
   ]
  },
  {
   "cell_type": "code",
   "execution_count": 36,
   "id": "4da0f073-81be-41b7-92c3-cbf100c50cde",
   "metadata": {},
   "outputs": [],
   "source": [
    "x = np.ones(6)     # Create a vector of six elements with value 1\n",
    "w = np.ones((6,3)) # Create a matrix of six rows and 3 columns with every element of value 1"
   ]
  },
  {
   "cell_type": "code",
   "execution_count": 37,
   "id": "7f45c672-94f2-4a15-b176-f356f7d26536",
   "metadata": {},
   "outputs": [
    {
     "name": "stdout",
     "output_type": "stream",
     "text": [
      "[1. 1. 1. 1. 1. 1.]\n"
     ]
    }
   ],
   "source": [
    "print(x)"
   ]
  },
  {
   "cell_type": "code",
   "execution_count": 38,
   "id": "a1b6fb86-efb2-4c99-9fd6-3d941fb763de",
   "metadata": {},
   "outputs": [
    {
     "name": "stdout",
     "output_type": "stream",
     "text": [
      "[[1. 1. 1.]\n",
      " [1. 1. 1.]\n",
      " [1. 1. 1.]\n",
      " [1. 1. 1.]\n",
      " [1. 1. 1.]\n",
      " [1. 1. 1.]]\n"
     ]
    }
   ],
   "source": [
    "print(w)"
   ]
  },
  {
   "cell_type": "code",
   "execution_count": 39,
   "id": "8c9a2b8a-03d3-4b94-9ce7-df400e02318f",
   "metadata": {},
   "outputs": [],
   "source": [
    "y = x@w"
   ]
  },
  {
   "cell_type": "code",
   "execution_count": 40,
   "id": "18a64bbe-a173-4c78-b09a-569c3079ba33",
   "metadata": {},
   "outputs": [
    {
     "name": "stdout",
     "output_type": "stream",
     "text": [
      "[6. 6. 6.]\n"
     ]
    }
   ],
   "source": [
    "print(y)"
   ]
  },
  {
   "cell_type": "markdown",
   "id": "b1bafdb2-f2af-436d-abbc-4d1357acfbac",
   "metadata": {},
   "source": [
    "It is also possible to add matrices:"
   ]
  },
  {
   "cell_type": "code",
   "execution_count": 42,
   "id": "8b0f5b53-4981-4e8e-9896-1f5862c2c91c",
   "metadata": {},
   "outputs": [
    {
     "name": "stdout",
     "output_type": "stream",
     "text": [
      "[[2. 2. 2.]\n",
      " [2. 2. 2.]\n",
      " [2. 2. 2.]\n",
      " [2. 2. 2.]\n",
      " [2. 2. 2.]\n",
      " [2. 2. 2.]]\n"
     ]
    }
   ],
   "source": [
    "y = w + w # Add w with itself\n",
    "print(y)"
   ]
  },
  {
   "cell_type": "markdown",
   "id": "ee12ec86-e398-41a3-8dc1-de76d2975732",
   "metadata": {},
   "source": [
    "Or to multiply a matrix by a number"
   ]
  },
  {
   "cell_type": "code",
   "execution_count": 43,
   "id": "7ff8c635-fbbf-4633-abd1-49397ed693d6",
   "metadata": {},
   "outputs": [
    {
     "name": "stdout",
     "output_type": "stream",
     "text": [
      "[[5. 5. 5.]\n",
      " [5. 5. 5.]\n",
      " [5. 5. 5.]\n",
      " [5. 5. 5.]\n",
      " [5. 5. 5.]\n",
      " [5. 5. 5.]]\n"
     ]
    }
   ],
   "source": [
    "z = 5 * w\n",
    "print(z)"
   ]
  },
  {
   "cell_type": "markdown",
   "id": "acc42241-598f-4c14-b525-77ebac5d8701",
   "metadata": {},
   "source": [
    "### Using Numpy for Machine Learning"
   ]
  },
  {
   "cell_type": "markdown",
   "id": "e83a24ca-7b32-475f-a830-eb99fbe9820d",
   "metadata": {},
   "source": [
    "To solve standard Classification and Regression problems, the first step is to create a dataset of inputs $x$ and outputs $y$ as numpy arrays\n",
    "\n",
    "The $x$ inputs are typically high-dimensional vectors, and $y$ are typically either a number (for regression) or a class for classification.\n",
    "\n",
    "Given $x$ and $y$, one can then train a model to output the y from x.\n",
    "\n",
    "In Python, we represent the inputs as matrices X in which each row represent a different input, and each column represent a different variable of the input.\n",
    "\n",
    "We represent the output Y as a vector representing the output for each row of the input matrix X\n",
    "\n",
    "For example, below is the price of bitcoin on Saturday for the three weeks four weeks of August 2023"
   ]
  },
  {
   "cell_type": "code",
   "execution_count": 52,
   "id": "6ed0a11b-1c89-4a1a-9483-86f20b5a3f2e",
   "metadata": {},
   "outputs": [],
   "source": [
    "Y = np.array([6, 7, 9])\n",
    "X = prices"
   ]
  },
  {
   "cell_type": "code",
   "execution_count": 53,
   "id": "f8733275-88f0-40ee-b62b-3b02d4be102c",
   "metadata": {},
   "outputs": [
    {
     "name": "stdout",
     "output_type": "stream",
     "text": [
      "[6 7 9]\n"
     ]
    }
   ],
   "source": [
    "print(Y)"
   ]
  },
  {
   "cell_type": "code",
   "execution_count": 54,
   "id": "3e38446e-7643-4452-ae80-8ad2da83db10",
   "metadata": {},
   "outputs": [
    {
     "name": "stdout",
     "output_type": "stream",
     "text": [
      "[[2 7 5 3 8]\n",
      " [9 5 8 2 3]\n",
      " [4 6 6 8 9]]\n"
     ]
    }
   ],
   "source": [
    "print(X)"
   ]
  },
  {
   "cell_type": "markdown",
   "id": "be01dc7d-7ec5-4f16-b0be-f4bd7f348119",
   "metadata": {},
   "source": [
    "Then I can use the data $X$ and $y$ to train a Machine Leanring model $f_w(x)$ to predict the Saturday bitoin price from the previous week days price: $y=f_w(x)$\n",
    "\n",
    "Each row of the matrix $X$ represent one input vector of $x$ containing the daily values of bitcoin price and each element of the $y$ vector contains the saturday value.\n",
    "\n",
    "For example, the data $(x,y)$ for the first week of August is as follows:"
   ]
  },
  {
   "cell_type": "code",
   "execution_count": 56,
   "id": "73a7d157-3df2-4f26-9402-f113381c9ad4",
   "metadata": {},
   "outputs": [
    {
     "name": "stdout",
     "output_type": "stream",
     "text": [
      "Input x:\n",
      "[2 7 5 3 8]\n",
      "Output y:\n",
      "6\n"
     ]
    }
   ],
   "source": [
    "print(\"Input x:\")\n",
    "print(X[0])\n",
    "print(\"Output y:\")\n",
    "print(Y[0])"
   ]
  },
  {
   "cell_type": "markdown",
   "id": "fc6b9ec3-768e-46f5-8be4-98f7360cf148",
   "metadata": {},
   "source": [
    "In the following lecture, we will see how to collect data as input matrices $X$ and output vectors $Y$, and how to train a model on this data"
   ]
  },
  {
   "cell_type": "code",
   "execution_count": null,
   "id": "2bb53f65-9c9e-4c7a-9c39-06eca3ceff08",
   "metadata": {},
   "outputs": [],
   "source": []
  },
  {
   "cell_type": "code",
   "execution_count": null,
   "id": "bdb1187b-1289-4e51-96e2-28a0463cab35",
   "metadata": {},
   "outputs": [],
   "source": []
  }
 ],
 "metadata": {
  "kernelspec": {
   "display_name": "Python 3 (ipykernel)",
   "language": "python",
   "name": "python3"
  },
  "language_info": {
   "codemirror_mode": {
    "name": "ipython",
    "version": 3
   },
   "file_extension": ".py",
   "mimetype": "text/x-python",
   "name": "python",
   "nbconvert_exporter": "python",
   "pygments_lexer": "ipython3",
   "version": "3.10.4"
  }
 },
 "nbformat": 4,
 "nbformat_minor": 5
}
